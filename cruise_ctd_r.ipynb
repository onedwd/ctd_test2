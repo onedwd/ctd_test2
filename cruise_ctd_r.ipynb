{
 "cells": [
  {
   "cell_type": "code",
   "execution_count": 6,
   "metadata": {
    "collapsed": false
   },
   "outputs": [],
   "source": [
    "library(oce, gsw)\n",
    "cruise_dir = 'C:/Users/wand/Box Sync/Physics/PhD_work/kitimat_data/cruise_data'"
   ]
  },
  {
   "cell_type": "code",
   "execution_count": 119,
   "metadata": {
    "collapsed": false
   },
   "outputs": [
    {
     "name": "stdout",
     "output_type": "stream",
     "text": [
      "[1] \"2013-50\"\n",
      "[1] \"2013-50\" \"2014-15\" \"2014-20\" \"2014-59\" \"2015-03\" \"2015-46\" \"2015-54\"\n",
      " [1] \"2013-50-0005.ctd\" \"2013-50-0006.ctd\" \"2013-50-0015.ctd\" \"2013-50-0018.ctd\"\n",
      " [5] \"2013-50-0019.ctd\" \"2013-50-0021.ctd\" \"2013-50-0023.ctd\" \"2013-50-0024.ctd\"\n",
      " [9] \"2013-50-0025.ctd\" \"2013-50-0026.ctd\" \"2013-50-0027.ctd\" \"2013-50-0028.ctd\"\n",
      "[13] \"2013-50-0030.ctd\" \"2013-50-0031.ctd\" \"2013-50-0032.ctd\" \"2013-50-0033.ctd\"\n",
      "[17] \"2013-50-0034.ctd\" \"2013-50-0035.ctd\" \"2013-50-0036.ctd\" \"2013-50-0037.ctd\"\n",
      "[21] \"2013-50-0038.ctd\" \"2013-50-0039.ctd\" \"2013-50-0040.ctd\" \"2013-50-0041.ctd\"\n",
      "[25] \"2013-50-0042.ctd\"\n"
     ]
    }
   ],
   "source": [
    "cruise_ids = list.files(cruise_dir)\n",
    "print(cruise_ids[1])\n",
    "print(cruise_ids)\n",
    "cruise_1 = cruise_ids[1]\n",
    "ctd_path = file.path(cruise_dir, cruise_ids[1], 'CTD')\n",
    "ctd_files = list.files(ctd_path)\n",
    "print(ctd_files)\n",
    "file1 = file.path(ctd_path,ctd_files[1] )"
   ]
  },
  {
   "cell_type": "code",
   "execution_count": 120,
   "metadata": {
    "collapsed": false,
    "scrolled": false
   },
   "outputs": [
    {
     "name": "stdout",
     "output_type": "stream",
     "text": [
      "[1] 52.9\n",
      "[[1]]\n",
      "[1] \"\"          \"LONGITUDE\" \":\"         \"129\"       \"23.96000\"  \"W\"        \n",
      "[7] \"!\"         \"(deg\"      \"min)\"     \n",
      "\n",
      "[1] -129.3993\n",
      "[1] 255\n",
      "[1] \"QD01\"\n",
      "[1] 9\n",
      "[1] \"Pressure\"                  \"Temperature:Primary\"      \n",
      "[3] \"Transmissivity\"            \"Fluorescence:URU:Seapoint\"\n",
      "[5] \"PAR\"                       \"Salinity:T0:C0\"           \n",
      "[7] \"Oxygen:Dissolved:SBE\"      \"Oxygen:Dissolved:SBE\"     \n",
      "[9] \"Number_of_bin_records\"    \n"
     ]
    },
    {
     "name": "stderr",
     "output_type": "stream",
     "text": [
      "Loading required package: testthat\n"
     ]
    },
    {
     "data": {
      "image/png": "[encoded data removed]",
      "text/plain": [
       "plot without title"
      ]
     },
     "metadata": {},
     "output_type": "display_data"
    }
   ],
   "source": [
    "mydata = read.csv(file1, header=FALSE, skip=0, sep=\"\\t\")\n",
    "\n",
    "a = readLines(file1)\n",
    "b = grep('NUMBER OF CHANNELS', a)\n",
    "strs = strsplit(a[b], \": \")\n",
    "num_of_c = as.numeric(strs[[1]][2])\n",
    "\n",
    "lat_ln = grep('LATITUDE', a)\n",
    "lon_ln = grep('LONGITUDE', a)\n",
    "\n",
    "lats = strsplit(a[lat_ln], \"[, ]+\")\n",
    "lat = as.numeric(lats[[1]][4]) + as.numeric(lats[[1]][5])/60.\n",
    "print(lat)\n",
    "\n",
    "lons = strsplit(a[lon_ln], \"[, ]+\")\n",
    "print(lons)\n",
    "lon = - (as.numeric(lons[[1]][4]) + as.numeric(lons[[1]][5])/60.)\n",
    "print(lon)\n",
    "\n",
    "dep_ln = grep('WATER DEPTH', a)\n",
    "depth = as.numeric(strsplit(a[dep_ln], \"[\\t: A-Z]+\")[[1]][2])\n",
    "print(depth)\n",
    "\n",
    "stn_ln = grep('STATION', a)\n",
    "stn = strsplit(a[stn_ln], \"[: ]+\")[[1]][3]\n",
    "print(stn)\n",
    "\n",
    "strs = strsplit(a[b], \": \")\n",
    "num_of_c = as.numeric(strs[[1]][2])\n",
    "print(num_of_c)\n",
    "\n",
    "\n",
    "header_endln = grep('END OF HEADER', a)\n",
    "header2 <- scan(file1, skip=15, nlines=num_of_c, what=list('a','b','c','d','e'), sep=\"\")[[2]]\n",
    "print(header2)\n",
    "\n",
    "\n",
    "\n",
    "ctd1 <- read.table(file1, header=FALSE, skip=header_endln, col.names=header2, sep='')\n",
    "\n",
    "\n",
    "\n",
    "ctd2 = as.ctd(salinity=ctd1$Salinity.T0.C0,\n",
    "              temperature=ctd1$Temperature.Primary, \n",
    "              pressure=ctd1$Pressure, \n",
    "              oxygen=ctd1$Oxygen.Dissolved.SBE,\n",
    "              longitude=lon, latitude=lat,waterDepth=depth, cruise=cruise_ids[1],\n",
    "              station=stn)\n",
    "plot(ctd2)\n",
    "\n",
    "                    "
   ]
  },
  {
   "cell_type": "code",
   "execution_count": null,
   "metadata": {
    "collapsed": true
   },
   "outputs": [],
   "source": []
  }
 ],
 "metadata": {
  "kernelspec": {
   "display_name": "R",
   "language": "R",
   "name": "ir"
  },
  "language_info": {
   "codemirror_mode": "r",
   "file_extension": ".r",
   "mimetype": "text/x-r-source",
   "name": "R",
   "pygments_lexer": "r",
   "version": "3.3.1"
  }
 },
 "nbformat": 4,
 "nbformat_minor": 1
}
